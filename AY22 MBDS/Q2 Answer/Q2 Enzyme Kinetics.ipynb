{
 "cells": [
  {
   "cell_type": "code",
   "execution_count": 1,
   "id": "a6801117",
   "metadata": {
    "execution": {
     "iopub.execute_input": "2021-11-27T23:37:37.874217Z",
     "iopub.status.busy": "2021-11-27T23:37:37.872994Z",
     "iopub.status.idle": "2021-11-27T23:37:37.883200Z",
     "shell.execute_reply": "2021-11-27T23:37:37.883693Z"
    },
    "papermill": {
     "duration": 0.027711,
     "end_time": "2021-11-27T23:37:37.883991",
     "exception": false,
     "start_time": "2021-11-27T23:37:37.856280",
     "status": "completed"
    },
    "tags": []
   },
   "outputs": [],
   "source": [
    "from numpy import linspace\n",
    "import matplotlib.pyplot as plt"
   ]
  },
  {
   "cell_type": "markdown",
   "id": "4f71a1ae",
   "metadata": {
    "_cell_guid": "b1076dfc-b9ad-4769-8c92-a6c4dae69d19",
    "_uuid": "8f2839f25d086af736a60e9eeb907d3b93b6e0e5",
    "papermill": {
     "duration": 0.01243,
     "end_time": "2021-11-27T23:37:37.909691",
     "exception": false,
     "start_time": "2021-11-27T23:37:37.897261",
     "status": "completed"
    },
    "tags": []
   },
   "source": [
    "## 8.1. Using the law of mass action, write down four equations for the rate of changes of the four species, E, S, ES, and P."
   ]
  },
  {
   "cell_type": "markdown",
   "id": "4875cfbd",
   "metadata": {
    "papermill": {
     "duration": 0.014024,
     "end_time": "2021-11-27T23:37:37.935963",
     "exception": false,
     "start_time": "2021-11-27T23:37:37.921939",
     "status": "completed"
    },
    "tags": []
   },
   "source": [
    "For ease of writing, let e = [E], s = [S], c = [ES], and p = [P].\n",
    "\n",
    "\\begin{equation*}\n",
    "\\frac{ds}{dt} = k_{2}c - k_{1}se\n",
    "\\end{equation*}\n",
    "\n",
    "\\begin{equation*}\n",
    "\\frac{de}{dt} = (k_{2} + k_{3})c - k_{1}se\n",
    "\\end{equation*}\n",
    "\n",
    "\\begin{equation*}\n",
    "\\frac{dc}{dt} = k_{1}se - (k_{2} + k_{3})c\n",
    "\\end{equation*}\n",
    "\n",
    "\\begin{equation*}\n",
    "\\frac{dp}{dt} = k_{3}c\n",
    "\\end{equation*}\n"
   ]
  },
  {
   "cell_type": "markdown",
   "id": "34db87c0",
   "metadata": {
    "papermill": {
     "duration": 0.012253,
     "end_time": "2021-11-27T23:37:37.960543",
     "exception": false,
     "start_time": "2021-11-27T23:37:37.948290",
     "status": "completed"
    },
    "tags": []
   },
   "source": [
    "## 8.2. Write a code to numerically solve these four equations using the fourth-order Runge- Kutta method. For this exercise, assume that the initial concentration of E is 1 μM, the initial concentration of S is 10 μM, and the initial concentrations of ES and P are both 0. The rate constants are: k1=100/μM/min, k2=600/min, k3=150/min."
   ]
  },
  {
   "cell_type": "code",
   "execution_count": 2,
   "id": "9209e80a",
   "metadata": {
    "execution": {
     "iopub.execute_input": "2021-11-27T23:37:37.988592Z",
     "iopub.status.busy": "2021-11-27T23:37:37.987913Z",
     "iopub.status.idle": "2021-11-27T23:37:37.997148Z",
     "shell.execute_reply": "2021-11-27T23:37:37.997742Z"
    },
    "papermill": {
     "duration": 0.024967,
     "end_time": "2021-11-27T23:37:37.997913",
     "exception": false,
     "start_time": "2021-11-27T23:37:37.972946",
     "status": "completed"
    },
    "tags": []
   },
   "outputs": [],
   "source": [
    "# Substrate differential equation \"ds / dt = (a2 * c) - (a1*s*e)\n",
    "def dsdt(s, t):\n",
    "    a1 = 100 # replace k with a \n",
    "    a2 = 600\n",
    "    c = 0\n",
    "    e = 1\n",
    "    return ((a2*c) - (a1*s*e))\n",
    "\n",
    "s_plot = [] \n",
    "ts_RK4= []\n",
    "\n",
    "# Finds value of t for a given s using step size h\n",
    "# and initial value t0 at s0.\n",
    "def s_rungeKutta(s0, t0, s, h):\n",
    "    # Count number of iterations using step size or\n",
    "    # step height h\n",
    "    n = abs((int)((s0 - s)/h))\n",
    "    # Iterate for number of iterations\n",
    "    t = t0\n",
    "    for i in range(1, n + 1):\n",
    "        s_plot.append(s0); ts_RK4.append(t); \n",
    "        \"Apply Runge Kutta Formulas to find next value of t\"\n",
    "        k1 = h * dsdt(s0, t)\n",
    "        k2 = h * dsdt(s0 + 0.5 * h, t + 0.5 * k1)\n",
    "        k3 = h * dsdt(s0 + 0.5 * h, t + 0.5 * k2)\n",
    "        k4 = h * dsdt(s0 + h, t + k3)\n",
    "\n",
    "        # Update next value of t\n",
    "        t = t + (1.0 / 6.0)*(k1 + 2 * k2 + 2 * k3 + k4)\n",
    "\n",
    "        # Update next value of s\n",
    "        s0 = s0 + h\n",
    "        print('%f \\t %f \\t %f' % (s0, t, dsdt(s0, t)))\n",
    "    return t"
   ]
  },
  {
   "cell_type": "code",
   "execution_count": 3,
   "id": "36ba1c7b",
   "metadata": {
    "execution": {
     "iopub.execute_input": "2021-11-27T23:37:38.027094Z",
     "iopub.status.busy": "2021-11-27T23:37:38.026397Z",
     "iopub.status.idle": "2021-11-27T23:37:38.245913Z",
     "shell.execute_reply": "2021-11-27T23:37:38.245040Z"
    },
    "papermill": {
     "duration": 0.23551,
     "end_time": "2021-11-27T23:37:38.246096",
     "exception": false,
     "start_time": "2021-11-27T23:37:38.010586",
     "status": "completed"
    },
    "tags": []
   },
   "outputs": [
    {
     "name": "stdout",
     "output_type": "stream",
     "text": [
      "s0 \t\t t \t\t dsdt\n",
      "9.000000 \t 950.000000 \t -900.000000\n",
      "8.000000 \t 1800.000000 \t -800.000000\n",
      "7.000000 \t 2550.000000 \t -700.000000\n",
      "6.000000 \t 3200.000000 \t -600.000000\n",
      "5.000000 \t 3750.000000 \t -500.000000\n",
      "4.000000 \t 4200.000000 \t -400.000000\n",
      "3.000000 \t 4550.000000 \t -300.000000\n",
      "2.000000 \t 4800.000000 \t -200.000000\n",
      "1.000000 \t 4950.000000 \t -100.000000\n",
      "0.000000 \t 5000.000000 \t 0.000000\n"
     ]
    },
    {
     "data": {
      "text/plain": [
       "Text(0, 0.5, 'time (min)')"
      ]
     },
     "execution_count": 3,
     "metadata": {},
     "output_type": "execute_result"
    },
    {
     "data": {
      "image/png": "[encoded data removed]",
      "text/plain": [
       "<Figure size 432x288 with 1 Axes>"
      ]
     },
     "metadata": {
      "needs_background": "light"
     },
     "output_type": "display_data"
    }
   ],
   "source": [
    "# Driver method\n",
    "s0 = 10\n",
    "t = 0\n",
    "s = 0\n",
    "h = -1\n",
    "print('s0 \\t\\t t \\t\\t dsdt')\n",
    "s_rungeKutta(s0, t, s, h)\n",
    "\n",
    "plt.plot(s_plot, ts_RK4)\n",
    "plt.xlabel(\"Substrate [S] (uM)\")\n",
    "plt.ylabel(\"time (min)\")"
   ]
  },
  {
   "cell_type": "code",
   "execution_count": 4,
   "id": "6170fa0d",
   "metadata": {
    "execution": {
     "iopub.execute_input": "2021-11-27T23:37:38.279750Z",
     "iopub.status.busy": "2021-11-27T23:37:38.278703Z",
     "iopub.status.idle": "2021-11-27T23:37:38.288261Z",
     "shell.execute_reply": "2021-11-27T23:37:38.288816Z"
    },
    "papermill": {
     "duration": 0.02792,
     "end_time": "2021-11-27T23:37:38.289044",
     "exception": false,
     "start_time": "2021-11-27T23:37:38.261124",
     "status": "completed"
    },
    "tags": []
   },
   "outputs": [],
   "source": [
    "# Enzyme differential equation \"de / dt = ((a2 + a3)* c) - (a1*s*e)\n",
    "def dedt(e, t):\n",
    "    a1 = 100 # replace k with a \n",
    "    a2 = 600\n",
    "    a3 = 150\n",
    "    s = 10\n",
    "    c = 0\n",
    "    return (((a2+a3)*c) - (a1*s*e))\n",
    "\n",
    "e_plot = [] \n",
    "te_RK4= []\n",
    "\n",
    "# Finds value of t for a given s using step size h\n",
    "# and initial value t0 at e0.\n",
    "def e_rungeKutta(e0, t0, e, h):\n",
    "    # Count number of iterations using step size or\n",
    "    # step height h\n",
    "    n = abs((int)((e0 - e)/h))\n",
    "    # Iterate for number of iterations\n",
    "    t = t0\n",
    "    for i in range(1, n + 1):\n",
    "        e_plot.append(e0); te_RK4.append(t)\n",
    "        \"Apply Runge Kutta Formulas to find next value of t\"\n",
    "        k1 = h * dedt(e0, t)\n",
    "        k2 = h * dedt(e0 + 0.5 * h, t + 0.5 * k1)\n",
    "        k3 = h * dedt(e0 + 0.5 * h, t + 0.5 * k2)\n",
    "        k4 = h * dedt(e0 + h, t + k3)\n",
    "\n",
    "        # Update next value of t\n",
    "        t = t + (1.0 / 6.0)*(k1 + 2 * k2 + 2 * k3 + k4)\n",
    "\n",
    "        # Update next value of e\n",
    "        e0 = e0 + h\n",
    "        print('%f \\t %f \\t %f' % (e0, t, dedt(e0, t)))\n",
    "    return t"
   ]
  },
  {
   "cell_type": "code",
   "execution_count": 5,
   "id": "6b91f23a",
   "metadata": {
    "execution": {
     "iopub.execute_input": "2021-11-27T23:37:38.321087Z",
     "iopub.status.busy": "2021-11-27T23:37:38.320409Z",
     "iopub.status.idle": "2021-11-27T23:37:38.536135Z",
     "shell.execute_reply": "2021-11-27T23:37:38.535483Z"
    },
    "papermill": {
     "duration": 0.232801,
     "end_time": "2021-11-27T23:37:38.536277",
     "exception": false,
     "start_time": "2021-11-27T23:37:38.303476",
     "status": "completed"
    },
    "tags": []
   },
   "outputs": [
    {
     "name": "stdout",
     "output_type": "stream",
     "text": [
      "e0 \t\t t \t\t dedt\n",
      "0.900000 \t 95.000000 \t -900.000000\n",
      "0.800000 \t 180.000000 \t -800.000000\n",
      "0.700000 \t 255.000000 \t -700.000000\n",
      "0.600000 \t 320.000000 \t -600.000000\n",
      "0.500000 \t 375.000000 \t -500.000000\n",
      "0.400000 \t 420.000000 \t -400.000000\n",
      "0.300000 \t 455.000000 \t -300.000000\n",
      "0.200000 \t 480.000000 \t -200.000000\n",
      "0.100000 \t 495.000000 \t -100.000000\n",
      "0.000000 \t 500.000000 \t -0.000000\n"
     ]
    },
    {
     "data": {
      "text/plain": [
       "Text(0, 0.5, 'time (min)')"
      ]
     },
     "execution_count": 5,
     "metadata": {},
     "output_type": "execute_result"
    },
    {
     "data": {
      "image/png": "[encoded data removed]",
      "text/plain": [
       "<Figure size 432x288 with 1 Axes>"
      ]
     },
     "metadata": {
      "needs_background": "light"
     },
     "output_type": "display_data"
    }
   ],
   "source": [
    "# Driver method\n",
    "e0 = 1\n",
    "t = 0\n",
    "e = 0\n",
    "h = -0.1\n",
    "\n",
    "print('e0 \\t\\t t \\t\\t dedt')\n",
    "e_rungeKutta(e0, t, e, h)\n",
    "\n",
    "\n",
    "plt.plot(e_plot, te_RK4)\n",
    "plt.xlabel(\"Enzyme concentration [E] (uM)\")\n",
    "plt.ylabel(\"time (min)\")"
   ]
  },
  {
   "cell_type": "code",
   "execution_count": 6,
   "id": "d1e30906",
   "metadata": {
    "execution": {
     "iopub.execute_input": "2021-11-27T23:37:38.580522Z",
     "iopub.status.busy": "2021-11-27T23:37:38.579595Z",
     "iopub.status.idle": "2021-11-27T23:37:38.582753Z",
     "shell.execute_reply": "2021-11-27T23:37:38.582218Z"
    },
    "papermill": {
     "duration": 0.029964,
     "end_time": "2021-11-27T23:37:38.582895",
     "exception": false,
     "start_time": "2021-11-27T23:37:38.552931",
     "status": "completed"
    },
    "tags": []
   },
   "outputs": [],
   "source": [
    "# Composite differential equation \"de / dt = ((a2 + a3)* c) - (a1*s*e)\n",
    "def dcdt(c, t):\n",
    "    a1 = 100 # replace k with a \n",
    "    a2 = 600\n",
    "    a3 = 150\n",
    "    s = 10\n",
    "    e = 1\n",
    "    return (((a1*s*e) - (a2 + a3)* c))\n",
    "\n",
    "c_plot = [] \n",
    "tc_RK4= []\n",
    "\n",
    "# Finds value of t for a given s using step size h\n",
    "# and initial value t0 at c0.\n",
    "def c_rungeKutta(c0, t0, c, h):\n",
    "    # Count number of iterations using step size or\n",
    "    # step height h\n",
    "    n = abs((int)((c - c0)/h))\n",
    "    # Iterate for number of iterations\n",
    "    t = t0\n",
    "    for i in range(1, n + 1):\n",
    "        c_plot.append(c0); tc_RK4.append(t)\n",
    "        \"Apply Runge Kutta Formulas to find next value of t\"\n",
    "        k1 = h * dcdt(c0, t)\n",
    "        k2 = h * dcdt(c0 + 0.5 * h, t + 0.5 * k1)\n",
    "        k3 = h * dcdt(c0 + 0.5 * h, t + 0.5 * k2)\n",
    "        k4 = h * dcdt(c0 + h, t + k3)\n",
    "\n",
    "        # Update next value of t\n",
    "        t = t + (1.0 / 6.0)*(k1 + 2 * k2 + 2 * k3 + k4)\n",
    "\n",
    "        # Update next value of c\n",
    "        c0 = c0 + h\n",
    "        print('%f \\t %f \\t %f' % (c0, t, dcdt(c0, t)))\n",
    "    return t\n"
   ]
  },
  {
   "cell_type": "code",
   "execution_count": 7,
   "id": "f2e829a2",
   "metadata": {
    "execution": {
     "iopub.execute_input": "2021-11-27T23:37:38.619907Z",
     "iopub.status.busy": "2021-11-27T23:37:38.618902Z",
     "iopub.status.idle": "2021-11-27T23:37:38.853636Z",
     "shell.execute_reply": "2021-11-27T23:37:38.852795Z"
    },
    "papermill": {
     "duration": 0.254277,
     "end_time": "2021-11-27T23:37:38.853795",
     "exception": false,
     "start_time": "2021-11-27T23:37:38.599518",
     "status": "completed"
    },
    "tags": []
   },
   "outputs": [
    {
     "name": "stdout",
     "output_type": "stream",
     "text": [
      "c0 \t\t t \t\t dcdt\n",
      "0.050000 \t 49.062500 \t 962.500000\n",
      "0.100000 \t 96.250000 \t 925.000000\n",
      "0.150000 \t 141.562500 \t 887.500000\n",
      "0.200000 \t 185.000000 \t 850.000000\n",
      "0.250000 \t 226.562500 \t 812.500000\n",
      "0.300000 \t 266.250000 \t 775.000000\n",
      "0.350000 \t 304.062500 \t 737.500000\n",
      "0.400000 \t 340.000000 \t 700.000000\n",
      "0.450000 \t 374.062500 \t 662.500000\n",
      "0.500000 \t 406.250000 \t 625.000000\n",
      "0.550000 \t 436.562500 \t 587.500000\n",
      "0.600000 \t 465.000000 \t 550.000000\n",
      "0.650000 \t 491.562500 \t 512.500000\n",
      "0.700000 \t 516.250000 \t 475.000000\n",
      "0.750000 \t 539.062500 \t 437.500000\n",
      "0.800000 \t 560.000000 \t 400.000000\n",
      "0.850000 \t 579.062500 \t 362.500000\n",
      "0.900000 \t 596.250000 \t 325.000000\n",
      "0.950000 \t 611.562500 \t 287.500000\n",
      "1.000000 \t 625.000000 \t 250.000000\n",
      "1.050000 \t 636.562500 \t 212.500000\n",
      "1.100000 \t 646.250000 \t 175.000000\n",
      "1.150000 \t 654.062500 \t 137.500000\n",
      "1.200000 \t 660.000000 \t 100.000000\n",
      "1.250000 \t 664.062500 \t 62.500000\n",
      "1.300000 \t 666.250000 \t 25.000000\n"
     ]
    },
    {
     "data": {
      "text/plain": [
       "Text(0, 0.5, 'time (min)')"
      ]
     },
     "execution_count": 7,
     "metadata": {},
     "output_type": "execute_result"
    },
    {
     "data": {
      "image/png": "[encoded data removed]",
      "text/plain": [
       "<Figure size 432x288 with 1 Axes>"
      ]
     },
     "metadata": {
      "needs_background": "light"
     },
     "output_type": "display_data"
    }
   ],
   "source": [
    "# Driver method\n",
    "c0 = 0\n",
    "t = 0\n",
    "e = 1.3\n",
    "h = 0.05\n",
    "\n",
    "print('c0 \\t\\t t \\t\\t dcdt')\n",
    "c_rungeKutta(c0, t, e, h)\n",
    "\n",
    "plt.plot(c_plot, tc_RK4)\n",
    "plt.xlabel(\"Complex concentration [ES] (uM)\")\n",
    "plt.ylabel(\"time (min)\")"
   ]
  },
  {
   "cell_type": "code",
   "execution_count": 8,
   "id": "3f85c179",
   "metadata": {
    "execution": {
     "iopub.execute_input": "2021-11-27T23:37:38.899500Z",
     "iopub.status.busy": "2021-11-27T23:37:38.898736Z",
     "iopub.status.idle": "2021-11-27T23:37:38.902198Z",
     "shell.execute_reply": "2021-11-27T23:37:38.902724Z"
    },
    "papermill": {
     "duration": 0.030552,
     "end_time": "2021-11-27T23:37:38.902895",
     "exception": false,
     "start_time": "2021-11-27T23:37:38.872343",
     "status": "completed"
    },
    "tags": []
   },
   "outputs": [],
   "source": [
    "# Product differential equation \"dp / dt = (a3 * c) \n",
    "def dpdt(p, t):\n",
    "    a3 = 150 # replace k with a \n",
    "    c = 0\n",
    "    return (a3*c)\n",
    "\n",
    "p_plot = [] \n",
    "tp_RK4= []\n",
    "\n",
    "# Finds value of t for a given s using step size h\n",
    "# and initial value t0 at p0.\n",
    "def p_rungeKutta(p0, t0, p, h):\n",
    "    # Count number of iterations using step size or\n",
    "    # step height h\n",
    "    n = (int)((p - p0)/h)\n",
    "    # Iterate for number of iterations\n",
    "    t = t0\n",
    "    for i in range(1, n + 1):\n",
    "        p_plot.append(p0); tp_RK4.append(t)\n",
    "        \"Apply Runge Kutta Formulas to find next value of t\"\n",
    "        k1 = h * dpdt(p0, t)\n",
    "        k2 = h * dpdt(p0 + 0.5 * h, t + 0.5 * k1)\n",
    "        k3 = h * dpdt(p0 + 0.5 * h, t + 0.5 * k2)\n",
    "        k4 = h * dpdt(p0 + h, t + k3)\n",
    "\n",
    "        # Update next value of t\n",
    "        t = t + (1.0 / 6.0)*(k1 + 2 * k2 + 2 * k3 + k4)\n",
    "\n",
    "        # Update next value of p\n",
    "        p0 = p0 + h\n",
    "        print('%f \\t %f \\t %f' % (p0, t, dpdt(p0, t)))\n",
    "    return t\n"
   ]
  },
  {
   "cell_type": "code",
   "execution_count": 9,
   "id": "735afa39",
   "metadata": {
    "execution": {
     "iopub.execute_input": "2021-11-27T23:37:38.943223Z",
     "iopub.status.busy": "2021-11-27T23:37:38.942530Z",
     "iopub.status.idle": "2021-11-27T23:37:39.171999Z",
     "shell.execute_reply": "2021-11-27T23:37:39.171475Z"
    },
    "papermill": {
     "duration": 0.250511,
     "end_time": "2021-11-27T23:37:39.172199",
     "exception": false,
     "start_time": "2021-11-27T23:37:38.921688",
     "status": "completed"
    },
    "tags": []
   },
   "outputs": [
    {
     "name": "stdout",
     "output_type": "stream",
     "text": [
      "p0 \t\t t \t\t dpdt\n",
      "0.100000 \t 0.000000 \t 0.000000\n",
      "0.200000 \t 0.000000 \t 0.000000\n",
      "0.300000 \t 0.000000 \t 0.000000\n",
      "0.400000 \t 0.000000 \t 0.000000\n",
      "0.500000 \t 0.000000 \t 0.000000\n",
      "0.600000 \t 0.000000 \t 0.000000\n",
      "0.700000 \t 0.000000 \t 0.000000\n",
      "0.800000 \t 0.000000 \t 0.000000\n",
      "0.900000 \t 0.000000 \t 0.000000\n",
      "1.000000 \t 0.000000 \t 0.000000\n",
      "1.100000 \t 0.000000 \t 0.000000\n",
      "1.200000 \t 0.000000 \t 0.000000\n",
      "1.300000 \t 0.000000 \t 0.000000\n",
      "1.400000 \t 0.000000 \t 0.000000\n",
      "1.500000 \t 0.000000 \t 0.000000\n",
      "1.600000 \t 0.000000 \t 0.000000\n",
      "1.700000 \t 0.000000 \t 0.000000\n",
      "1.800000 \t 0.000000 \t 0.000000\n",
      "1.900000 \t 0.000000 \t 0.000000\n",
      "2.000000 \t 0.000000 \t 0.000000\n"
     ]
    },
    {
     "data": {
      "text/plain": [
       "Text(0, 0.5, 'time (min)')"
      ]
     },
     "execution_count": 9,
     "metadata": {},
     "output_type": "execute_result"
    },
    {
     "data": {
      "image/png": "[encoded data removed]",
      "text/plain": [
       "<Figure size 432x288 with 1 Axes>"
      ]
     },
     "metadata": {
      "needs_background": "light"
     },
     "output_type": "display_data"
    }
   ],
   "source": [
    "# Driver method\n",
    "p0 = 0\n",
    "t = 0\n",
    "p = 2\n",
    "h = 0.1\n",
    "\n",
    "print('p0 \\t\\t t \\t\\t dpdt')\n",
    "p_rungeKutta(p0, t, p, h)\n",
    "\n",
    "plt.plot(p_plot, tp_RK4)\n",
    "plt.xlabel(\"Product concetration [P] (uM)\")\n",
    "plt.ylabel(\"time (min)\")"
   ]
  },
  {
   "cell_type": "markdown",
   "id": "e988ba27",
   "metadata": {
    "papermill": {
     "duration": 0.019416,
     "end_time": "2021-11-27T23:37:39.211138",
     "exception": false,
     "start_time": "2021-11-27T23:37:39.191722",
     "status": "completed"
    },
    "tags": []
   },
   "source": [
    "##  8.3. We define the velocity, V, of the enzymatic reaction to be the rate of change of the product P. Plot the velocity V as a function of the concentration of the substrate S. You should find that, when the concentrations of S are small, the velocity V increases approximately linearly. At large concentrations of S, however, the velocity V saturates to a maximum value, Vm. Find this value Vm from your plot.\n"
   ]
  },
  {
   "cell_type": "markdown",
   "id": "c0ad3a27",
   "metadata": {
    "execution": {
     "iopub.execute_input": "2021-11-26T03:14:40.426587Z",
     "iopub.status.busy": "2021-11-26T03:14:40.42621Z",
     "iopub.status.idle": "2021-11-26T03:14:40.452761Z",
     "shell.execute_reply": "2021-11-26T03:14:40.451894Z",
     "shell.execute_reply.started": "2021-11-26T03:14:40.426491Z"
    },
    "papermill": {
     "duration": 0.019349,
     "end_time": "2021-11-27T23:37:39.250255",
     "exception": false,
     "start_time": "2021-11-27T23:37:39.230906",
     "status": "completed"
    },
    "tags": []
   },
   "source": [
    "We would be using Michaelis-Menten equation (3) to calculate and plot the initial velocity / substrate concentration graph. \n",
    "\\begin{equation*}\n",
    "v = \\frac{V_{max} [S]}{K_{m} + [S]}\n",
    "\\end{equation*}\n",
    "\n",
    "Since Vmax is the reaction velocity at saturating substrate concentration, it is equal to \\begin{equation*} k_{3} [ES] \\end{equation*} \n",
    "where S is not longer the limiting factor, and total number of enzymes is \n",
    "\\begin{equation*} [ES] = [E_{T}]\\end{equation*}\n",
    "so\n",
    "\\begin{equation*}\n",
    "V_{max} = k_{3} [E_{T}]\n",
    "\\end{equation*}\n",
    "\n",
    "We also define KM in terms of the rate constants as follows:\n",
    "\n",
    "\\begin{equation*}\n",
    "K_{m} = \\frac{k_{2} + k_{3}}{k_{1}}\n",
    "\\end{equation*}\n"
   ]
  },
  {
   "cell_type": "code",
   "execution_count": 10,
   "id": "f6390724",
   "metadata": {
    "execution": {
     "iopub.execute_input": "2021-11-27T23:37:39.298471Z",
     "iopub.status.busy": "2021-11-27T23:37:39.297701Z",
     "iopub.status.idle": "2021-11-27T23:37:39.547508Z",
     "shell.execute_reply": "2021-11-27T23:37:39.548021Z"
    },
    "papermill": {
     "duration": 0.278633,
     "end_time": "2021-11-27T23:37:39.548207",
     "exception": false,
     "start_time": "2021-11-27T23:37:39.269574",
     "status": "completed"
    },
    "tags": []
   },
   "outputs": [
    {
     "data": {
      "text/plain": [
       "Text(0.5, 1.0, 'Michaelis-Menten Curve')"
      ]
     },
     "execution_count": 10,
     "metadata": {},
     "output_type": "execute_result"
    },
    {
     "data": {
      "image/png": "[encoded data removed]",
      "text/plain": [
       "<Figure size 432x288 with 1 Axes>"
      ]
     },
     "metadata": {
      "needs_background": "light"
     },
     "output_type": "display_data"
    }
   ],
   "source": [
    "k1 = 100 \n",
    "k2 = 600\n",
    "k3 = 150\n",
    "Et = 1 # initial Enzyme concentration = total enzyme concentration\n",
    " \n",
    "def v0 (s, Vm, Km):\n",
    "    return Vm*s / (Km + s)\n",
    "\n",
    "sAxis = linspace(0,200,21)\n",
    "\n",
    "Km = (k2+k3)/k1\n",
    "Vm = k3 * Et\n",
    "experimental_data = v0(sAxis, Vm, Km)\n",
    "\n",
    "plt.plot(sAxis, experimental_data, marker='o')\n",
    "plt.plot([sAxis[0],sAxis[-1]], [experimental_data[-1],experimental_data[-1]],':' )\n",
    "plt.xlabel(\"Substrate concentration[S] (uM)\")\n",
    "plt.ylabel(\"Reaction rate (uM/min)\")\n",
    "plt.title('Michaelis-Menten Curve', fontsize=15)"
   ]
  },
  {
   "cell_type": "code",
   "execution_count": 11,
   "id": "7ceb5a36",
   "metadata": {
    "execution": {
     "iopub.execute_input": "2021-11-27T23:37:39.593555Z",
     "iopub.status.busy": "2021-11-27T23:37:39.592843Z",
     "iopub.status.idle": "2021-11-27T23:37:39.599918Z",
     "shell.execute_reply": "2021-11-27T23:37:39.599346Z"
    },
    "papermill": {
     "duration": 0.030871,
     "end_time": "2021-11-27T23:37:39.600220",
     "exception": false,
     "start_time": "2021-11-27T23:37:39.569349",
     "status": "completed"
    },
    "tags": []
   },
   "outputs": [
    {
     "data": {
      "text/plain": [
       "144.57831325301206"
      ]
     },
     "execution_count": 11,
     "metadata": {},
     "output_type": "execute_result"
    }
   ],
   "source": [
    "v0(sAxis[-1], Vm, Km) # As the maximum [S] sets as sAxis[-1]"
   ]
  },
  {
   "cell_type": "code",
   "execution_count": 12,
   "id": "d6eb25e6",
   "metadata": {
    "execution": {
     "iopub.execute_input": "2021-11-27T23:37:39.650287Z",
     "iopub.status.busy": "2021-11-27T23:37:39.649543Z",
     "iopub.status.idle": "2021-11-27T23:37:39.652547Z",
     "shell.execute_reply": "2021-11-27T23:37:39.653063Z"
    },
    "papermill": {
     "duration": 0.03029,
     "end_time": "2021-11-27T23:37:39.653248",
     "exception": false,
     "start_time": "2021-11-27T23:37:39.622958",
     "status": "completed"
    },
    "tags": []
   },
   "outputs": [
    {
     "data": {
      "text/plain": [
       "144.57831325301206"
      ]
     },
     "execution_count": 12,
     "metadata": {},
     "output_type": "execute_result"
    }
   ],
   "source": [
    "experimental_data[-1]"
   ]
  },
  {
   "cell_type": "markdown",
   "id": "b4b82189",
   "metadata": {
    "papermill": {
     "duration": 0.021406,
     "end_time": "2021-11-27T23:37:39.696524",
     "exception": false,
     "start_time": "2021-11-27T23:37:39.675118",
     "status": "completed"
    },
    "tags": []
   },
   "source": [
    "Answer: **Vmax from the plot** is approximately **145uM/min**"
   ]
  }
 ],
 "metadata": {
  "kernelspec": {
   "display_name": "Python 3",
   "language": "python",
   "name": "python3"
  },
  "language_info": {
   "codemirror_mode": {
    "name": "ipython",
    "version": 3
   },
   "file_extension": ".py",
   "mimetype": "text/x-python",
   "name": "python",
   "nbconvert_exporter": "python",
   "pygments_lexer": "ipython3",
   "version": "3.7.10"
  },
  "papermill": {
   "default_parameters": {},
   "duration": 12.502144,
   "end_time": "2021-11-27T23:37:40.328328",
   "environment_variables": {},
   "exception": null,
   "input_path": "__notebook__.ipynb",
   "output_path": "__notebook__.ipynb",
   "parameters": {},
   "start_time": "2021-11-27T23:37:27.826184",
   "version": "2.3.3"
  }
 },
 "nbformat": 4,
 "nbformat_minor": 5
}
